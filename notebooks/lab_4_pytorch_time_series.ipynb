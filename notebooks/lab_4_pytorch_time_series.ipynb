{
 "cells": [
  {
   "cell_type": "markdown",
   "metadata": {},
   "source": [
    "# Time Series Prediction with PyTorch\n",
    "\n",
    "**XBUS-512: Introduction to AI and Deep Learning**\n",
    "\n",
    "In this exercise, we will see how to build a time series model with PyTorch. \n",
    "\n",
    "*Note: This lab is inspired by [this blog post](https://www.curiousily.com/posts/time-series-forecasting-with-lstm-for-daily-coronavirus-cases/) by Venelin Valkov.*\n"
   ]
  },
  {
   "cell_type": "code",
   "execution_count": 1,
   "metadata": {},
   "outputs": [],
   "source": [
    "import os\n",
    "import torch\n",
    "import requests\n",
    "import numpy as np\n",
    "import pandas as pd\n",
    "from torch import nn, optim\n",
    "import matplotlib.pyplot as plt\n",
    "from sklearn.pipeline import Pipeline\n",
    "from sklearn.preprocessing import MinMaxScaler\n",
    "from sklearn.base import BaseEstimator, TransformerMixin"
   ]
  },
  {
   "cell_type": "markdown",
   "metadata": {},
   "source": [
    "## Download the data"
   ]
  },
  {
   "cell_type": "code",
   "execution_count": 2,
   "metadata": {},
   "outputs": [],
   "source": [
    "def fetch_data(url, fname):\n",
    "    \"\"\"\n",
    "    Helper method to retreive data.\n",
    "    \"\"\"\n",
    "    response = requests.get(url)\n",
    "    outpath  = os.path.abspath(fname)\n",
    "    with open(outpath, \"wb\") as f:\n",
    "        f.write(response.content)\n",
    "    \n",
    "    return outpath"
   ]
  },
  {
   "cell_type": "code",
   "execution_count": 3,
   "metadata": {},
   "outputs": [
    {
     "data": {
      "text/plain": [
       "'/Users/rebeccabilbro/Desktop/eudicot/georgetown/intro-to-dl/fixtures/confirmed_US_cases.csv'"
      ]
     },
     "execution_count": 3,
     "metadata": {},
     "output_type": "execute_result"
    }
   ],
   "source": [
    "# Fetch the data\n",
    "\n",
    "URL = \"https://raw.githubusercontent.com/CSSEGISandData/COVID-19/master/csse_covid_19_data/csse_covid_19_time_series/time_series_covid19_confirmed_US.csv\"\n",
    "FNAME = \"confirmed_US_cases.csv\"\n",
    "\n",
    "fetch_data(URL, os.path.join(\"../fixtures\", FNAME))"
   ]
  },
  {
   "cell_type": "code",
   "execution_count": 4,
   "metadata": {},
   "outputs": [
    {
     "data": {
      "text/html": [
       "<div>\n",
       "<style scoped>\n",
       "    .dataframe tbody tr th:only-of-type {\n",
       "        vertical-align: middle;\n",
       "    }\n",
       "\n",
       "    .dataframe tbody tr th {\n",
       "        vertical-align: top;\n",
       "    }\n",
       "\n",
       "    .dataframe thead th {\n",
       "        text-align: right;\n",
       "    }\n",
       "</style>\n",
       "<table border=\"1\" class=\"dataframe\">\n",
       "  <thead>\n",
       "    <tr style=\"text-align: right;\">\n",
       "      <th></th>\n",
       "      <th>UID</th>\n",
       "      <th>iso2</th>\n",
       "      <th>iso3</th>\n",
       "      <th>code3</th>\n",
       "      <th>FIPS</th>\n",
       "      <th>Admin2</th>\n",
       "      <th>Province_State</th>\n",
       "      <th>Country_Region</th>\n",
       "      <th>Lat</th>\n",
       "      <th>Long_</th>\n",
       "      <th>...</th>\n",
       "      <th>8/7/20</th>\n",
       "      <th>8/8/20</th>\n",
       "      <th>8/9/20</th>\n",
       "      <th>8/10/20</th>\n",
       "      <th>8/11/20</th>\n",
       "      <th>8/12/20</th>\n",
       "      <th>8/13/20</th>\n",
       "      <th>8/14/20</th>\n",
       "      <th>8/15/20</th>\n",
       "      <th>8/16/20</th>\n",
       "    </tr>\n",
       "  </thead>\n",
       "  <tbody>\n",
       "    <tr>\n",
       "      <th>0</th>\n",
       "      <td>84001001</td>\n",
       "      <td>US</td>\n",
       "      <td>USA</td>\n",
       "      <td>840</td>\n",
       "      <td>1001.0</td>\n",
       "      <td>Autauga</td>\n",
       "      <td>Alabama</td>\n",
       "      <td>US</td>\n",
       "      <td>32.539527</td>\n",
       "      <td>-86.644082</td>\n",
       "      <td>...</td>\n",
       "      <td>1065</td>\n",
       "      <td>1086</td>\n",
       "      <td>1169</td>\n",
       "      <td>1174</td>\n",
       "      <td>1162</td>\n",
       "      <td>1188</td>\n",
       "      <td>1196</td>\n",
       "      <td>1196</td>\n",
       "      <td>1206</td>\n",
       "      <td>1218</td>\n",
       "    </tr>\n",
       "    <tr>\n",
       "      <th>1</th>\n",
       "      <td>84001003</td>\n",
       "      <td>US</td>\n",
       "      <td>USA</td>\n",
       "      <td>840</td>\n",
       "      <td>1003.0</td>\n",
       "      <td>Baldwin</td>\n",
       "      <td>Alabama</td>\n",
       "      <td>US</td>\n",
       "      <td>30.727750</td>\n",
       "      <td>-87.722071</td>\n",
       "      <td>...</td>\n",
       "      <td>3443</td>\n",
       "      <td>3502</td>\n",
       "      <td>3544</td>\n",
       "      <td>3651</td>\n",
       "      <td>3670</td>\n",
       "      <td>3710</td>\n",
       "      <td>3744</td>\n",
       "      <td>3791</td>\n",
       "      <td>3839</td>\n",
       "      <td>3877</td>\n",
       "    </tr>\n",
       "    <tr>\n",
       "      <th>2</th>\n",
       "      <td>84001005</td>\n",
       "      <td>US</td>\n",
       "      <td>USA</td>\n",
       "      <td>840</td>\n",
       "      <td>1005.0</td>\n",
       "      <td>Barbour</td>\n",
       "      <td>Alabama</td>\n",
       "      <td>US</td>\n",
       "      <td>31.868263</td>\n",
       "      <td>-85.387129</td>\n",
       "      <td>...</td>\n",
       "      <td>569</td>\n",
       "      <td>573</td>\n",
       "      <td>575</td>\n",
       "      <td>576</td>\n",
       "      <td>579</td>\n",
       "      <td>581</td>\n",
       "      <td>586</td>\n",
       "      <td>590</td>\n",
       "      <td>598</td>\n",
       "      <td>604</td>\n",
       "    </tr>\n",
       "    <tr>\n",
       "      <th>3</th>\n",
       "      <td>84001007</td>\n",
       "      <td>US</td>\n",
       "      <td>USA</td>\n",
       "      <td>840</td>\n",
       "      <td>1007.0</td>\n",
       "      <td>Bibb</td>\n",
       "      <td>Alabama</td>\n",
       "      <td>US</td>\n",
       "      <td>32.996421</td>\n",
       "      <td>-87.125115</td>\n",
       "      <td>...</td>\n",
       "      <td>416</td>\n",
       "      <td>426</td>\n",
       "      <td>438</td>\n",
       "      <td>442</td>\n",
       "      <td>444</td>\n",
       "      <td>453</td>\n",
       "      <td>457</td>\n",
       "      <td>465</td>\n",
       "      <td>469</td>\n",
       "      <td>469</td>\n",
       "    </tr>\n",
       "    <tr>\n",
       "      <th>4</th>\n",
       "      <td>84001009</td>\n",
       "      <td>US</td>\n",
       "      <td>USA</td>\n",
       "      <td>840</td>\n",
       "      <td>1009.0</td>\n",
       "      <td>Blount</td>\n",
       "      <td>Alabama</td>\n",
       "      <td>US</td>\n",
       "      <td>33.982109</td>\n",
       "      <td>-86.567906</td>\n",
       "      <td>...</td>\n",
       "      <td>774</td>\n",
       "      <td>788</td>\n",
       "      <td>800</td>\n",
       "      <td>812</td>\n",
       "      <td>816</td>\n",
       "      <td>825</td>\n",
       "      <td>835</td>\n",
       "      <td>848</td>\n",
       "      <td>854</td>\n",
       "      <td>860</td>\n",
       "    </tr>\n",
       "  </tbody>\n",
       "</table>\n",
       "<p>5 rows × 219 columns</p>\n",
       "</div>"
      ],
      "text/plain": [
       "        UID iso2 iso3  code3    FIPS   Admin2 Province_State Country_Region  \\\n",
       "0  84001001   US  USA    840  1001.0  Autauga        Alabama             US   \n",
       "1  84001003   US  USA    840  1003.0  Baldwin        Alabama             US   \n",
       "2  84001005   US  USA    840  1005.0  Barbour        Alabama             US   \n",
       "3  84001007   US  USA    840  1007.0     Bibb        Alabama             US   \n",
       "4  84001009   US  USA    840  1009.0   Blount        Alabama             US   \n",
       "\n",
       "         Lat      Long_  ... 8/7/20  8/8/20  8/9/20  8/10/20  8/11/20  \\\n",
       "0  32.539527 -86.644082  ...   1065    1086    1169     1174     1162   \n",
       "1  30.727750 -87.722071  ...   3443    3502    3544     3651     3670   \n",
       "2  31.868263 -85.387129  ...    569     573     575      576      579   \n",
       "3  32.996421 -87.125115  ...    416     426     438      442      444   \n",
       "4  33.982109 -86.567906  ...    774     788     800      812      816   \n",
       "\n",
       "   8/12/20  8/13/20  8/14/20  8/15/20  8/16/20  \n",
       "0     1188     1196     1196     1206     1218  \n",
       "1     3710     3744     3791     3839     3877  \n",
       "2      581      586      590      598      604  \n",
       "3      453      457      465      469      469  \n",
       "4      825      835      848      854      860  \n",
       "\n",
       "[5 rows x 219 columns]"
      ]
     },
     "execution_count": 4,
     "metadata": {},
     "output_type": "execute_result"
    }
   ],
   "source": [
    "# Read into a dataframe\n",
    "cumulative_cases = pd.read_csv(os.path.join(\"..\", \"fixtures\", FNAME))\n",
    "cumulative_cases.head()"
   ]
  },
  {
   "cell_type": "code",
   "execution_count": 5,
   "metadata": {},
   "outputs": [],
   "source": [
    "# Drop the non-numeric columns & all cases before April 1\n",
    "cumulative_cases = cumulative_cases.iloc[:, 81:]"
   ]
  },
  {
   "cell_type": "code",
   "execution_count": 6,
   "metadata": {},
   "outputs": [
    {
     "data": {
      "text/plain": [
       "2020-04-01    214205\n",
       "2020-04-02    244610\n",
       "2020-04-03    276547\n",
       "2020-04-04    309699\n",
       "2020-04-05    337573\n",
       "dtype: int64"
      ]
     },
     "execution_count": 6,
     "metadata": {},
     "output_type": "execute_result"
    }
   ],
   "source": [
    "# Sum each column to get the daily cases\n",
    "cumulative_daily_cases = cumulative_cases.sum(axis=0)\n",
    "cumulative_daily_cases.index = pd.to_datetime(cumulative_daily_cases.index)\n",
    "cumulative_daily_cases.head()"
   ]
  },
  {
   "cell_type": "code",
   "execution_count": 7,
   "metadata": {},
   "outputs": [
    {
     "data": {
      "text/plain": [
       "<AxesSubplot:title={'center':'Cumulative daily cases'}>"
      ]
     },
     "execution_count": 7,
     "metadata": {},
     "output_type": "execute_result"
    },
    {
     "data": {
      "image/png": "[encoded data removed]",
      "text/plain": [
       "<Figure size 432x288 with 1 Axes>"
      ]
     },
     "metadata": {
      "needs_background": "light"
     },
     "output_type": "display_data"
    }
   ],
   "source": [
    "cumulative_daily_cases.plot(title=\"Cumulative daily cases\")"
   ]
  },
  {
   "cell_type": "code",
   "execution_count": 8,
   "metadata": {},
   "outputs": [
    {
     "data": {
      "text/plain": [
       "2020-04-01    30405.0\n",
       "2020-04-02    30405.0\n",
       "2020-04-03    31937.0\n",
       "2020-04-04    33152.0\n",
       "2020-04-05    27874.0\n",
       "dtype: float64"
      ]
     },
     "execution_count": 8,
     "metadata": {},
     "output_type": "execute_result"
    }
   ],
   "source": [
    "# Use the diff() method to compute the differences to get daily new cases\n",
    "# Pad the first day with the cases at t=1\n",
    "daily_cases = cumulative_daily_cases.diff()\n",
    "daily_cases[0] = daily_cases[1]\n",
    "daily_cases.astype(np.int64)\n",
    "\n",
    "daily_cases.head()"
   ]
  },
  {
   "cell_type": "code",
   "execution_count": 9,
   "metadata": {},
   "outputs": [
    {
     "data": {
      "text/plain": [
       "<AxesSubplot:title={'center':'Daily cases'}>"
      ]
     },
     "execution_count": 9,
     "metadata": {},
     "output_type": "execute_result"
    },
    {
     "data": {
      "image/png": "[encoded data removed]",
      "text/plain": [
       "<Figure size 432x288 with 1 Axes>"
      ]
     },
     "metadata": {
      "needs_background": "light"
     },
     "output_type": "display_data"
    }
   ],
   "source": [
    "daily_cases.plot(title=\"Daily cases\")"
   ]
  },
  {
   "cell_type": "code",
   "execution_count": 10,
   "metadata": {},
   "outputs": [],
   "source": [
    "# Let's set our window size to 1 week\n",
    "WINDOW = 7\n",
    "\n",
    "# We'll set our training epochs to 500\n",
    "EPOCHS = 500 # Hint: Change to 50 to run in class\n",
    "\n",
    "# And we'll set aside 15% of the data for testing\n",
    "TEST_RATIO = 0.15"
   ]
  },
  {
   "cell_type": "code",
   "execution_count": 11,
   "metadata": {},
   "outputs": [],
   "source": [
    "class Sequencer(BaseEstimator, TransformerMixin):\n",
    "    \n",
    "    def __init__(self, window_size=WINDOW):\n",
    "        self.window_size = window_size\n",
    "\n",
    "    def fit(self, X, y=None):\n",
    "        return self\n",
    "    \n",
    "    def transform(self, X, y=None):\n",
    "        \"\"\"\n",
    "        Take in data as a 1-dimensional sequence and tranform it into\n",
    "        a multidimensional series of sequences of window_size, returning\n",
    "        a tuple containing the features (the data points for each window) \n",
    "        and target (the subsequent value after each window) \n",
    "        for a time series prediction\n",
    "        \"\"\"\n",
    "        X_t = []\n",
    "        y_t = []\n",
    "\n",
    "        window_count = len(X) - self.window_size - 1\n",
    "\n",
    "        for window in range(window_count):\n",
    "            X_t.append(X[window:(window + self.window_size)])\n",
    "            y_t.append(X[window + self.window_size])\n",
    "\n",
    "        return np.array(X_t), np.array(y_t)"
   ]
  },
  {
   "cell_type": "code",
   "execution_count": 12,
   "metadata": {},
   "outputs": [],
   "source": [
    "# Scale the daily cases between 0 and 1\n",
    "scaler = MinMaxScaler()\n",
    "X_scaled = scaler.fit_transform(\n",
    "    np.expand_dims(daily_cases, axis=1)\n",
    ")\n",
    "\n",
    "# Sequence them into 5-day windows\n",
    "X, y = Sequencer().fit_transform(\n",
    "    X_scaled\n",
    ")\n",
    "\n",
    "# Split the data\n",
    "ratio = int(len(X) * TEST_RATIO)\n",
    "X_train = X[: -ratio]\n",
    "X_test = X[-ratio: ]\n",
    "y_train = y[: -ratio]\n",
    "y_test = y[-ratio: ]\n",
    "\n",
    "# Convert to PyTorch tensors\n",
    "X_train_t = torch.from_numpy(X_train).float()\n",
    "X_test_t = torch.from_numpy(X_test).float()\n",
    "y_train_t = torch.from_numpy(y_train).float()\n",
    "y_test_t = torch.from_numpy(y_test).float()"
   ]
  },
  {
   "cell_type": "code",
   "execution_count": 13,
   "metadata": {},
   "outputs": [],
   "source": [
    "class CoronaVirusPredictor(nn.Module):\n",
    "    def __init__(self, n_features, n_hidden, seq_len, n_layers=2):\n",
    "        \"\"\"\n",
    "        Initialize all helper data and create the layers\n",
    "        \"\"\"\n",
    "        super(CoronaVirusPredictor, self).__init__()\n",
    "        self.n_hidden = n_hidden\n",
    "        self.seq_len = seq_len\n",
    "        self.n_layers = n_layers\n",
    "        \n",
    "        self.lstm = nn.LSTM(\n",
    "            input_size=n_features,\n",
    "            hidden_size=n_hidden,\n",
    "            num_layers=n_layers,\n",
    "            dropout=0.5\n",
    "        )\n",
    "\n",
    "        self.linear = nn.Linear(in_features=n_hidden, out_features=1)\n",
    "\n",
    "    def reset_hidden_state(self):\n",
    "        \"\"\"\n",
    "        Reset the state after each example\n",
    "        \"\"\"\n",
    "        self.hidden = (\n",
    "            torch.zeros(self.n_layers, self.seq_len, self.n_hidden),\n",
    "            torch.zeros(self.n_layers, self.seq_len, self.n_hidden)\n",
    "        )\n",
    "        \n",
    "    def forward(self, sequences):\n",
    "        \"\"\"\n",
    "        Pass sequences through the LSTM layer\n",
    "        Take the output of the last time step, \n",
    "        pass it through the linear layer to get the prediction.\n",
    "        \"\"\"\n",
    "        lstm_out, self.hidden = self.lstm(\n",
    "            sequences.view(len(sequences), self.seq_len, -1),\n",
    "            self.hidden\n",
    "        )\n",
    "        last_time_step = lstm_out.view(\n",
    "            self.seq_len, len(sequences), self.n_hidden\n",
    "        )[-1]\n",
    "        y_pred = self.linear(last_time_step)\n",
    "        return y_pred"
   ]
  },
  {
   "cell_type": "code",
   "execution_count": 14,
   "metadata": {},
   "outputs": [],
   "source": [
    "def train_model(model, X_train, y_train, X_test=None, y_test=None):\n",
    "    loss_fn = torch.nn.MSELoss(reduction=\"sum\")\n",
    "    optimiser = torch.optim.Adam(model.parameters(), lr=1e-3)\n",
    "    num_epochs = EPOCHS\n",
    "\n",
    "    train_hist = np.zeros(num_epochs)\n",
    "    test_hist = np.zeros(num_epochs)\n",
    "\n",
    "    for t in range(num_epochs):\n",
    "        model.reset_hidden_state()\n",
    "\n",
    "        y_pred = model(X_train)\n",
    "        loss = loss_fn(y_pred.float(), y_train)\n",
    "\n",
    "        if X_test is not None:\n",
    "            with torch.no_grad():\n",
    "                y_test_pred = model(X_test)\n",
    "                test_loss = loss_fn(y_test_pred.float(), y_test)\n",
    "                test_hist[t] = test_loss.item()\n",
    "\n",
    "            if t % 10 == 0:  \n",
    "                print(\n",
    "                    \"Epoch {} train loss: {} test loss: {}\".format(\n",
    "                        t, loss.item(), test_loss.item()\n",
    "                    )\n",
    "                )\n",
    "\n",
    "        elif t % 10 == 0:\n",
    "            print(\"Epoch {} train loss: {}\".format(t, loss.item()))\n",
    "\n",
    "        train_hist[t] = loss.item()\n",
    "        optimiser.zero_grad()\n",
    "        loss.backward()\n",
    "        optimiser.step()\n",
    "  \n",
    "    return model.eval(), train_hist, test_hist"
   ]
  },
  {
   "cell_type": "code",
   "execution_count": 15,
   "metadata": {},
   "outputs": [
    {
     "name": "stdout",
     "output_type": "stream",
     "text": [
      "Epoch 0 train loss: 16.74263572692871 test loss: 7.920504570007324\n",
      "Epoch 10 train loss: 8.21377182006836 test loss: 2.765519142150879\n",
      "Epoch 20 train loss: 7.799892425537109 test loss: 3.017439842224121\n",
      "Epoch 30 train loss: 7.621490955352783 test loss: 3.3906407356262207\n",
      "Epoch 40 train loss: 5.595541000366211 test loss: 115.91047668457031\n",
      "Epoch 50 train loss: 6.406832695007324 test loss: 0.7799493074417114\n",
      "Epoch 60 train loss: 6.459224700927734 test loss: 0.48116469383239746\n",
      "Epoch 70 train loss: 4.967972278594971 test loss: 92.25052642822266\n",
      "Epoch 80 train loss: 4.086022853851318 test loss: 38.113712310791016\n",
      "Epoch 90 train loss: 3.7708568572998047 test loss: 19.83019256591797\n",
      "Epoch 100 train loss: 3.0331804752349854 test loss: 1.0502201318740845\n",
      "Epoch 110 train loss: 3.029949426651001 test loss: 0.5957807898521423\n",
      "Epoch 120 train loss: 2.9681708812713623 test loss: 0.41521531343460083\n",
      "Epoch 130 train loss: 3.124047040939331 test loss: 0.3470664918422699\n",
      "Epoch 140 train loss: 2.9863345623016357 test loss: 0.40601643919944763\n",
      "Epoch 150 train loss: 2.926523447036743 test loss: 0.7225001454353333\n",
      "Epoch 160 train loss: 2.974555730819702 test loss: 0.9782878160476685\n",
      "Epoch 170 train loss: 3.014273166656494 test loss: 0.9982100129127502\n",
      "Epoch 180 train loss: 2.8936820030212402 test loss: 0.9849360585212708\n",
      "Epoch 190 train loss: 2.9675934314727783 test loss: 1.1912860870361328\n",
      "Epoch 200 train loss: 3.031259775161743 test loss: 1.8822085857391357\n",
      "Epoch 210 train loss: 2.820251226425171 test loss: 1.6209688186645508\n",
      "Epoch 220 train loss: 2.8495092391967773 test loss: 2.2845804691314697\n",
      "Epoch 230 train loss: 3.1576476097106934 test loss: 3.0234158039093018\n",
      "Epoch 240 train loss: 2.808964252471924 test loss: 2.6140875816345215\n",
      "Epoch 250 train loss: 2.8317484855651855 test loss: 3.3505194187164307\n",
      "Epoch 260 train loss: 3.054321765899658 test loss: 2.7531585693359375\n",
      "Epoch 270 train loss: 2.9311554431915283 test loss: 2.928499460220337\n",
      "Epoch 280 train loss: 2.9882655143737793 test loss: 3.0192153453826904\n",
      "Epoch 290 train loss: 3.008963108062744 test loss: 2.623863935470581\n",
      "Epoch 300 train loss: 2.965841054916382 test loss: 3.4146149158477783\n",
      "Epoch 310 train loss: 3.070885181427002 test loss: 3.1057257652282715\n",
      "Epoch 320 train loss: 2.9801297187805176 test loss: 3.3872556686401367\n",
      "Epoch 330 train loss: 3.0161263942718506 test loss: 2.951141357421875\n",
      "Epoch 340 train loss: 3.066074848175049 test loss: 2.305302143096924\n",
      "Epoch 350 train loss: 2.8824474811553955 test loss: 2.757005453109741\n",
      "Epoch 360 train loss: 2.882368326187134 test loss: 3.3122434616088867\n",
      "Epoch 370 train loss: 3.072784423828125 test loss: 2.4987072944641113\n",
      "Epoch 380 train loss: 2.9743905067443848 test loss: 2.395003318786621\n",
      "Epoch 390 train loss: 2.810236930847168 test loss: 2.2779297828674316\n",
      "Epoch 400 train loss: 2.975109100341797 test loss: 2.080052375793457\n",
      "Epoch 410 train loss: 2.8001554012298584 test loss: 2.033553123474121\n",
      "Epoch 420 train loss: 3.0818331241607666 test loss: 2.9715216159820557\n",
      "Epoch 430 train loss: 3.0358240604400635 test loss: 2.393625020980835\n",
      "Epoch 440 train loss: 3.0128087997436523 test loss: 3.102936029434204\n",
      "Epoch 450 train loss: 2.8663547039031982 test loss: 2.894272565841675\n",
      "Epoch 460 train loss: 2.8787076473236084 test loss: 3.415275812149048\n",
      "Epoch 470 train loss: 2.9769539833068848 test loss: 3.104053497314453\n",
      "Epoch 480 train loss: 3.0238096714019775 test loss: 3.0396945476531982\n",
      "Epoch 490 train loss: 2.772324323654175 test loss: 3.2803614139556885\n"
     ]
    }
   ],
   "source": [
    "model = CoronaVirusPredictor(\n",
    "    n_features=1, \n",
    "    n_hidden=512, \n",
    "    seq_len=WINDOW, \n",
    "    n_layers=2\n",
    ")\n",
    "\n",
    "model, train_hist, test_hist = train_model(\n",
    "    model, \n",
    "    X_train_t,  \n",
    "    y_train_t, \n",
    "    X_test_t,\n",
    "    y_test_t\n",
    ")"
   ]
  },
  {
   "cell_type": "code",
   "execution_count": 16,
   "metadata": {},
   "outputs": [
    {
     "data": {
      "text/plain": [
       "<matplotlib.legend.Legend at 0x139422ba8>"
      ]
     },
     "execution_count": 16,
     "metadata": {},
     "output_type": "execute_result"
    },
    {
     "data": {
      "image/png": "[encoded data removed]",
      "text/plain": [
       "<Figure size 432x288 with 1 Axes>"
      ]
     },
     "metadata": {
      "needs_background": "light"
     },
     "output_type": "display_data"
    }
   ],
   "source": [
    "fig, ax = plt.subplots()\n",
    "\n",
    "ax.plot(train_hist, label=\"Training loss\")\n",
    "ax.plot(test_hist, label=\"Test loss\")\n",
    "ax.set_ylim((0, 50))\n",
    "ax.legend()"
   ]
  },
  {
   "cell_type": "code",
   "execution_count": 17,
   "metadata": {},
   "outputs": [],
   "source": [
    "with torch.no_grad():\n",
    "    test_seq = X_test_t[:1]\n",
    "    preds = []\n",
    "    for _ in range(len(X_test)):\n",
    "        y_test_pred = model(test_seq)\n",
    "        pred = torch.flatten(y_test_pred).item()\n",
    "        preds.append(pred)\n",
    "        new_seq = test_seq.numpy().flatten()\n",
    "        new_seq = np.append(new_seq, [pred])\n",
    "        new_seq = new_seq[1:]\n",
    "        test_seq = torch.as_tensor(new_seq).view(1, WINDOW, 1).float()"
   ]
  },
  {
   "cell_type": "code",
   "execution_count": 18,
   "metadata": {},
   "outputs": [],
   "source": [
    "true_cases = scaler.inverse_transform(\n",
    "    np.expand_dims(y_test_t.flatten().numpy(), axis=0)\n",
    ").flatten()\n",
    "\n",
    "predicted_cases = scaler.inverse_transform(\n",
    "  np.expand_dims(preds, axis=0)\n",
    ").flatten()"
   ]
  },
  {
   "cell_type": "code",
   "execution_count": 19,
   "metadata": {},
   "outputs": [
    {
     "data": {
      "text/plain": [
       "<matplotlib.legend.Legend at 0x105da8ba8>"
      ]
     },
     "execution_count": 19,
     "metadata": {},
     "output_type": "execute_result"
    },
    {
     "data": {
      "image/png": "[encoded data removed]",
      "text/plain": [
       "<Figure size 432x288 with 1 Axes>"
      ]
     },
     "metadata": {
      "needs_background": "light"
     },
     "output_type": "display_data"
    }
   ],
   "source": [
    "fig, ax = plt.subplots()\n",
    "\n",
    "ax.plot(\n",
    "    daily_cases.index[:len(X_scaled[: -ratio])], \n",
    "    scaler.inverse_transform(X_scaled[: -ratio]).flatten(),\n",
    "    label=\"Historical Daily Cases\"\n",
    ")\n",
    "\n",
    "ax.plot(\n",
    "    daily_cases.index[len(X_scaled[: -ratio]):len(X_scaled[: -ratio]) + len(true_cases)], \n",
    "    true_cases,\n",
    "    label=\"Real Daily Cases\"\n",
    ")\n",
    "\n",
    "ax.plot(\n",
    "    daily_cases.index[len(X_scaled[: -ratio]):len(X_scaled[: -ratio]) + len(true_cases)], \n",
    "    predicted_cases, \n",
    "    label=\"Predicted Daily Cases\"\n",
    ")\n",
    "\n",
    "fig.autofmt_xdate()\n",
    "ax.legend()"
   ]
  },
  {
   "cell_type": "code",
   "execution_count": 20,
   "metadata": {},
   "outputs": [
    {
     "name": "stdout",
     "output_type": "stream",
     "text": [
      "Epoch 0 train loss: 22.954971313476562\n",
      "Epoch 10 train loss: 10.641324043273926\n",
      "Epoch 20 train loss: 9.397419929504395\n",
      "Epoch 30 train loss: 5.0224995613098145\n",
      "Epoch 40 train loss: 3.301912784576416\n",
      "Epoch 50 train loss: 2.918661594390869\n",
      "Epoch 60 train loss: 2.8225090503692627\n",
      "Epoch 70 train loss: 2.596653938293457\n",
      "Epoch 80 train loss: 5.791833400726318\n",
      "Epoch 90 train loss: 5.405145168304443\n",
      "Epoch 100 train loss: 3.148092269897461\n",
      "Epoch 110 train loss: 3.1211044788360596\n",
      "Epoch 120 train loss: 2.884145736694336\n",
      "Epoch 130 train loss: 2.6627554893493652\n",
      "Epoch 140 train loss: 3.3462376594543457\n",
      "Epoch 150 train loss: 6.40684175491333\n",
      "Epoch 160 train loss: 3.9924774169921875\n",
      "Epoch 170 train loss: 3.6578874588012695\n",
      "Epoch 180 train loss: 3.1736152172088623\n",
      "Epoch 190 train loss: 3.276475191116333\n",
      "Epoch 200 train loss: 2.973306179046631\n",
      "Epoch 210 train loss: 2.7227320671081543\n",
      "Epoch 220 train loss: 2.566549777984619\n",
      "Epoch 230 train loss: 2.979503631591797\n",
      "Epoch 240 train loss: 3.6129860877990723\n",
      "Epoch 250 train loss: 3.22369647026062\n",
      "Epoch 260 train loss: 2.9462814331054688\n",
      "Epoch 270 train loss: 2.7008137702941895\n",
      "Epoch 280 train loss: 2.4576780796051025\n",
      "Epoch 290 train loss: 2.0973620414733887\n",
      "Epoch 300 train loss: 1.852715015411377\n",
      "Epoch 310 train loss: 2.2329659461975098\n",
      "Epoch 320 train loss: 2.452913522720337\n",
      "Epoch 330 train loss: 2.177753448486328\n",
      "Epoch 340 train loss: 2.1487233638763428\n",
      "Epoch 350 train loss: 5.1600661277771\n",
      "Epoch 360 train loss: 3.2936108112335205\n",
      "Epoch 370 train loss: 2.079418420791626\n",
      "Epoch 380 train loss: 2.0050857067108154\n",
      "Epoch 390 train loss: 1.7480138540267944\n",
      "Epoch 400 train loss: 1.7898443937301636\n",
      "Epoch 410 train loss: 2.339121103286743\n",
      "Epoch 420 train loss: 1.5020235776901245\n",
      "Epoch 430 train loss: 1.2579988241195679\n",
      "Epoch 440 train loss: 2.0716440677642822\n",
      "Epoch 450 train loss: 1.6729485988616943\n",
      "Epoch 460 train loss: 0.9137763977050781\n",
      "Epoch 470 train loss: 1.216306209564209\n",
      "Epoch 480 train loss: 1.0291709899902344\n",
      "Epoch 490 train loss: 1.9763681888580322\n"
     ]
    }
   ],
   "source": [
    "# Convert to PyTorch tensors (no train and test splits)\n",
    "X_t = torch.from_numpy(X).float()\n",
    "y_t = torch.from_numpy(y).float()\n",
    "\n",
    "model = CoronaVirusPredictor(\n",
    "    n_features=1, \n",
    "    n_hidden=512, \n",
    "    seq_len=WINDOW, \n",
    "    n_layers=2\n",
    ")\n",
    "model, train_hist, _ = train_model(model, X_t, y_t)"
   ]
  },
  {
   "cell_type": "code",
   "execution_count": 21,
   "metadata": {},
   "outputs": [],
   "source": [
    "# Predict the next four weeks...\n",
    "DAYS_TO_PREDICT = WINDOW * 4\n",
    "\n",
    "with torch.no_grad():\n",
    "    test_seq = X_t[:1]\n",
    "    preds = []\n",
    "    for _ in range(DAYS_TO_PREDICT):\n",
    "        y_test_pred = model(test_seq)\n",
    "        pred = torch.flatten(y_test_pred).item()\n",
    "        preds.append(pred)\n",
    "        new_seq = test_seq.numpy().flatten()\n",
    "        new_seq = np.append(new_seq, [pred])\n",
    "        new_seq = new_seq[1:]\n",
    "        test_seq = torch.as_tensor(new_seq).view(1, WINDOW, 1).float()"
   ]
  },
  {
   "cell_type": "code",
   "execution_count": 22,
   "metadata": {},
   "outputs": [],
   "source": [
    "predicted_cases = scaler.inverse_transform(\n",
    "  np.expand_dims(preds, axis=0)\n",
    ").flatten()"
   ]
  },
  {
   "cell_type": "code",
   "execution_count": 23,
   "metadata": {},
   "outputs": [
    {
     "data": {
      "text/plain": [
       "Timestamp('2020-08-16 00:00:00')"
      ]
     },
     "execution_count": 23,
     "metadata": {},
     "output_type": "execute_result"
    }
   ],
   "source": [
    "daily_cases.index[-1]"
   ]
  },
  {
   "cell_type": "code",
   "execution_count": 24,
   "metadata": {},
   "outputs": [
    {
     "data": {
      "text/plain": [
       "<matplotlib.legend.Legend at 0x1346cbf98>"
      ]
     },
     "execution_count": 24,
     "metadata": {},
     "output_type": "execute_result"
    },
    {
     "data": {
      "image/png": "[encoded data removed]",
      "text/plain": [
       "<Figure size 432x288 with 1 Axes>"
      ]
     },
     "metadata": {
      "needs_background": "light"
     },
     "output_type": "display_data"
    }
   ],
   "source": [
    "predicted_index = pd.date_range(\n",
    "    start=daily_cases.index[-1],\n",
    "    periods=DAYS_TO_PREDICT + 1,\n",
    "    closed=\"right\"\n",
    ")\n",
    "\n",
    "predicted_cases = pd.Series(\n",
    "    data=predicted_cases,\n",
    "    index=predicted_index\n",
    ")\n",
    "\n",
    "fig, ax = plt.subplots()\n",
    "ax.plot(predicted_cases, label=\"Predicted Daily Cases\")\n",
    "fig.autofmt_xdate()\n",
    "ax.legend()"
   ]
  },
  {
   "cell_type": "code",
   "execution_count": 25,
   "metadata": {},
   "outputs": [
    {
     "data": {
      "text/plain": [
       "<matplotlib.legend.Legend at 0x13946f320>"
      ]
     },
     "execution_count": 25,
     "metadata": {},
     "output_type": "execute_result"
    },
    {
     "data": {
      "image/png": "[encoded data removed]",
      "text/plain": [
       "<Figure size 432x288 with 1 Axes>"
      ]
     },
     "metadata": {
      "needs_background": "light"
     },
     "output_type": "display_data"
    }
   ],
   "source": [
    "fig, ax = plt.subplots()\n",
    "ax.plot(daily_cases, label=\"Historical Daily Cases\")\n",
    "ax.plot(predicted_cases, label=\"Predicted Daily Cases\")\n",
    "fig.autofmt_xdate()\n",
    "ax.legend()"
   ]
  },
  {
   "cell_type": "code",
   "execution_count": null,
   "metadata": {},
   "outputs": [],
   "source": []
  }
 ],
 "metadata": {
  "kernelspec": {
   "display_name": "Python 3",
   "language": "python",
   "name": "python3"
  },
  "language_info": {
   "codemirror_mode": {
    "name": "ipython",
    "version": 3
   },
   "file_extension": ".py",
   "mimetype": "text/x-python",
   "name": "python",
   "nbconvert_exporter": "python",
   "pygments_lexer": "ipython3",
   "version": "3.6.5"
  }
 },
 "nbformat": 4,
 "nbformat_minor": 2
}
